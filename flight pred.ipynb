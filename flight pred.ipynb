{
 "cells": [
  {
   "cell_type": "code",
   "execution_count": 13,
   "id": "b520a432",
   "metadata": {},
   "outputs": [],
   "source": [
    "import pandas as pd\n",
    "import matplotlib.pyplot as plt\n",
    "import seaborn as sns\n",
    "import numpy as np"
   ]
  },
  {
   "cell_type": "code",
   "execution_count": 37,
   "id": "fb4a0890",
   "metadata": {},
   "outputs": [
    {
     "name": "stdout",
     "output_type": "stream",
     "text": [
      "100\n"
     ]
    },
    {
     "data": {
      "text/plain": [
       "RandomForestRegressor(max_depth=14)"
      ]
     },
     "execution_count": 37,
     "metadata": {},
     "output_type": "execute_result"
    }
   ],
   "source": [
    "td=pd.read_excel('flightdata.xlsx')\n",
    "td.dropna(inplace=True)\n",
    "airlines=list(td[\"Airline\"].unique())\n",
    "dep=list(td[\"Source\"].unique())\n",
    "destination=list(td[\"Destination\"].unique())\n",
    "td['Journey Day']=pd.to_datetime(td['Date_of_Journey'],format=\"%d/%m/%Y\").dt.day\n",
    "td['Journey Month']=pd.to_datetime(td['Date_of_Journey'],format=\"%d/%m/%Y\").dt.month\n",
    "td.drop([\"Date_of_Journey\"],axis=1,inplace=True)\n",
    "td[\"Dep_hour\"]=pd.to_datetime(td[\"Dep_Time\"]).dt.hour\n",
    "td[\"Dep_min\"]=pd.to_datetime(td[\"Dep_Time\"]).dt.minute\n",
    "td.drop([\"Dep_Time\"],axis=1,inplace=True)\n",
    "td[\"Arrival_hour\"]=pd.to_datetime(td[\"Arrival_Time\"]).dt.hour\n",
    "td[\"Arrival_min\"]=pd.to_datetime(td[\"Arrival_Time\"]).dt.minute\n",
    "duration=list(td[\"Duration\"])\n",
    "for i in range(len(duration)):\n",
    "    if len(duration[i].split()) !=2:\n",
    "        if \"h\" in duration[i]:\n",
    "            duration[i]=duration[i].strip() +\" 0m\"\n",
    "        else:\n",
    "            duration[i]= \"0h \"+ duration[i]\n",
    "duration_hours=[]\n",
    "duration_mins=[]\n",
    "for i in range(len(duration)):\n",
    "    duration_hours.append(int(duration[i].split(sep=\"h\")[0]))\n",
    "    duration_mins.append(int(duration[i].split(sep=\"m\")[0].split()[-1]))\n",
    "td[\"Duration_hours\"]=duration_hours\n",
    "td[\"Duration_mins\"]=duration_mins\n",
    "td.drop([\"Duration\"],axis=1,inplace=True)\n",
    "airline=td[[\"Airline\"]]\n",
    "airline=pd.get_dummies(airline,drop_first=True)\n",
    "source=td[[\"Source\"]]\n",
    "source=pd.get_dummies(source,drop_first=True)\n",
    "des=td[[\"Destination\"]]\n",
    "des=pd.get_dummies(des,drop_first=True)\n",
    "td.drop([\"Route\",\"Additional_Info\"],axis=1,inplace=True)\n",
    "td.replace({\"non-stop\":0,\"1 stop\":1,\"2 stops\":2,\"3 stops\":3,\"4 stops\":4},inplace=True)\n",
    "stops=list(td['Total_Stops'].unique())\n",
    "td.drop([\"Arrival_Time\"],axis=1,inplace=True)\n",
    "df=pd.concat([td,airline,source,des],axis=1)\n",
    "df.drop([\"Airline\",\"Source\",\"Destination\"],axis=1,inplace=True)\n",
    "columns=df.columns\n",
    "#=================================================================================================================#\n",
    "\n",
    "x=df.loc[:,['Total_Stops', 'Journey Day', 'Journey Month', 'Dep_hour',\n",
    "       'Dep_min', 'Arrival_hour', 'Arrival_min', 'Duration_hours',\n",
    "       'Duration_mins', 'Airline_Air India', 'Airline_GoAir', 'Airline_IndiGo',\n",
    "       'Airline_Jet Airways', 'Airline_Jet Airways Business',\n",
    "       'Airline_Multiple carriers',\n",
    "       'Airline_Multiple carriers Premium economy', 'Airline_SpiceJet',\n",
    "       'Airline_Trujet', 'Airline_Vistara', 'Airline_Vistara Premium economy',\n",
    "       'Source_Chennai', 'Source_Delhi', 'Source_Kolkata', 'Source_Mumbai',\n",
    "       'Destination_Cochin', 'Destination_Delhi', 'Destination_Hyderabad',\n",
    "       'Destination_Kolkata', 'Destination_New Delhi']]\n",
    "y=df[\"Price\"]\n",
    "\n",
    "#=================================================================================================================#\n",
    "\n",
    "from sklearn.model_selection import train_test_split\n",
    "x_train,x_test,y_train,y_test=train_test_split(x,y,test_size=0.2)\n",
    "\n",
    "#=================================================================================================================#\n",
    "\n",
    "from sklearn.ensemble import RandomForestRegressor\n",
    "reg_rf=RandomForestRegressor(max_depth=14)\n",
    "print(reg_rf.n_estimators)\n",
    "reg_rf.fit(x_train,y_train)\n",
    "\n",
    "#=================================================================================================================#\n"
   ]
  },
  {
   "cell_type": "code",
   "execution_count": 38,
   "id": "a35454f7",
   "metadata": {},
   "outputs": [],
   "source": [
    "accuracy=reg_rf.score(x_train,y_train)"
   ]
  },
  {
   "cell_type": "code",
   "execution_count": 39,
   "id": "db91eb12",
   "metadata": {},
   "outputs": [
    {
     "data": {
      "text/plain": [
       "0.9345209616329415"
      ]
     },
     "execution_count": 39,
     "metadata": {},
     "output_type": "execute_result"
    }
   ],
   "source": [
    "accuracy"
   ]
  },
  {
   "cell_type": "code",
   "execution_count": 40,
   "id": "374d6cd6",
   "metadata": {
    "scrolled": false
   },
   "outputs": [],
   "source": [
    "# loading library\n",
    "import pickle\n",
    "with open('fpmodel_pkl', 'wb') as files:\n",
    "    pickle.dump([reg_rf,accuracy,airline,dep,destination,stops,columns], files)"
   ]
  },
  {
   "cell_type": "code",
   "execution_count": null,
   "id": "ef54efaa",
   "metadata": {},
   "outputs": [],
   "source": []
  }
 ],
 "metadata": {
  "kernelspec": {
   "display_name": "Python 3",
   "language": "python",
   "name": "python3"
  },
  "language_info": {
   "codemirror_mode": {
    "name": "ipython",
    "version": 3
   },
   "file_extension": ".py",
   "mimetype": "text/x-python",
   "name": "python",
   "nbconvert_exporter": "python",
   "pygments_lexer": "ipython3",
   "version": "3.8.8"
  }
 },
 "nbformat": 4,
 "nbformat_minor": 5
}
